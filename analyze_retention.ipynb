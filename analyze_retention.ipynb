{
 "cells": [
  {
   "cell_type": "markdown",
   "id": "08bea418",
   "metadata": {},
   "source": [
    "# Customer Retention Analysis (2024)\n",
    "This notebook analyzes the monthly customer retention rates for 2024 and visualizes them against the target benchmark of **85%**."
   ]
  },
  {
   "cell_type": "code",
   "execution_count": null,
   "id": "1b2b719a",
   "metadata": {},
   "outputs": [],
   "source": [
    "import pandas as pd\n",
    "import matplotlib.pyplot as plt"
   ]
  },
  {
   "cell_type": "code",
   "execution_count": null,
   "id": "6ea2afbd",
   "metadata": {},
   "outputs": [],
   "source": [
    "# Load retention data\n",
    "df = pd.read_csv('customer_retention_2024.csv')\n",
    "df"
   ]
  },
  {
   "cell_type": "code",
   "execution_count": null,
   "id": "c4e6a6b0",
   "metadata": {},
   "outputs": [],
   "source": [
    "# Calculate average retention\n",
    "average = df['RetentionRate'].mean()\n",
    "print(f'Average Retention Rate (2024): {average:.2f}')"
   ]
  },
  {
   "cell_type": "code",
   "execution_count": null,
   "id": "8c8d5fd2",
   "metadata": {},
   "outputs": [],
   "source": [
    "# Plot retention trend with benchmark\n",
    "plt.figure(figsize=(8, 5))\n",
    "plt.plot(df['Month'], df['RetentionRate'], marker='o', label='Retention Rate')\n",
    "plt.axhline(y=85, color='red', linestyle='--', label='Target Benchmark (85)')\n",
    "plt.title('Customer Retention Trend (2024)')\n",
    "plt.xlabel('Month')\n",
    "plt.ylabel('Retention Rate (%)')\n",
    "plt.xticks(rotation=45)\n",
    "plt.legend()\n",
    "plt.tight_layout()\n",
    "plt.savefig('customer_retention_trend.png')\n",
    "plt.show()"
   ]
  }
 ],
 "metadata": {},
 "nbformat": 4,
 "nbformat_minor": 5
}
